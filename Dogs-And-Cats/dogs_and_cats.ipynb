{
 "cells": [
  {
   "cell_type": "code",
   "execution_count": 63,
   "metadata": {},
   "outputs": [],
   "source": [
    "from sklearn import tree\n",
    "import pandas as pd\n",
    "import matplotlib.pyplot as plt\n",
    "import seaborn as sns\n",
    "import numpy as np\n",
    "%matplotlib inline"
   ]
  },
  {
   "cell_type": "code",
   "execution_count": 64,
   "metadata": {},
   "outputs": [],
   "source": [
    "from IPython.display import SVG\n",
    "from graphviz import Source\n",
    "from IPython.display import display"
   ]
  },
  {
   "cell_type": "code",
   "execution_count": 83,
   "metadata": {},
   "outputs": [],
   "source": [
    "df_train = pd.read_csv('Data/dogs_n_cats.csv')\n",
    "df_test = pd.read_json('Data/dataset.txt')"
   ]
  },
  {
   "cell_type": "code",
   "execution_count": 84,
   "metadata": {},
   "outputs": [],
   "source": [
    "df_train = df_train.rename(columns={'Длина':'Lenght',\n",
    "                         'Высота':'Height',\n",
    "                         'Шерстист':'Rustle',\n",
    "                         'Гавкает':'Bark',\n",
    "                         'Лазает по деревьям':'Climb_Tree',\n",
    "                         'Вид':'Kind'})\n",
    "\n",
    "df_test = df_test.rename(columns={'Длина':'Lenght',\n",
    "                         'Высота':'Height',\n",
    "                         'Шерстист':'Rustle',\n",
    "                         'Гавкает':'Bark',\n",
    "                         'Лазает по деревьям':'Climb_Tree',\n",
    "                         'Вид':'Kind'})"
   ]
  },
  {
   "cell_type": "code",
   "execution_count": 91,
   "metadata": {},
   "outputs": [],
   "source": [
    "# Когда класифицирую по Длинне или Висоте дерево четко делит на собачек и на котиков\n",
    "# в первом разбиении что етропия выходит 0, попытался избавиться от этих колонок и видно\n",
    "#  что clf.score(X, Y) уже не 1.0 а 0.97\n",
    "\n",
    "#X = df_train.drop(['Kind'], axis=1)\n",
    "X = df_train.drop(['Kind', 'Height', 'Lenght'], axis=True)\n",
    "Y = df_train.Kind\n",
    "Y = Y.map({'собачка': 1, 'котик': 0})"
   ]
  },
  {
   "cell_type": "code",
   "execution_count": 86,
   "metadata": {},
   "outputs": [],
   "source": [
    "clf = tree.DecisionTreeClassifier(criterion='entropy')"
   ]
  },
  {
   "cell_type": "code",
   "execution_count": 87,
   "metadata": {},
   "outputs": [
    {
     "data": {
      "text/plain": [
       "DecisionTreeClassifier(criterion='entropy')"
      ]
     },
     "execution_count": 87,
     "metadata": {},
     "output_type": "execute_result"
    }
   ],
   "source": [
    "clf.fit(X, Y)"
   ]
  },
  {
   "cell_type": "code",
   "execution_count": 88,
   "metadata": {},
   "outputs": [
    {
     "data": {
      "text/plain": [
       "0.977"
      ]
     },
     "execution_count": 88,
     "metadata": {},
     "output_type": "execute_result"
    }
   ],
   "source": [
    "clf.score(X, Y)"
   ]
  },
  {
   "cell_type": "code",
   "execution_count": 89,
   "metadata": {},
   "outputs": [],
   "source": [
    "df_test = df_test.drop(['Height', 'Lenght'], axis=True)\n",
    "\n",
    "prd = clf.predict(df_test)"
   ]
  },
  {
   "cell_type": "code",
   "execution_count": 90,
   "metadata": {},
   "outputs": [
    {
     "data": {
      "text/plain": [
       "array([1, 1, 1, 1, 1, 1, 1, 1, 1, 1, 1, 1, 1, 1, 1, 1, 1, 1, 1, 1, 1, 1,\n",
       "       1, 1, 1, 1, 1, 1, 1, 1, 1, 1, 1, 1, 1, 1, 1, 1, 1, 1, 1, 1, 1, 1,\n",
       "       1, 1, 1, 1, 1, 1, 1, 1, 1, 1, 1, 1, 0, 0, 0, 0, 0, 0, 0, 0, 0, 0,\n",
       "       0, 0, 0, 0, 0, 0, 0, 0, 0, 0, 0, 0, 0, 0, 0, 0, 0, 0, 0, 0, 0, 0,\n",
       "       0, 0, 0, 0, 0, 0, 0, 0, 0, 0, 0, 0])"
      ]
     },
     "execution_count": 90,
     "metadata": {},
     "output_type": "execute_result"
    }
   ],
   "source": [
    "prd"
   ]
  },
  {
   "cell_type": "code",
   "execution_count": 73,
   "metadata": {},
   "outputs": [
    {
     "data": {
      "text/plain": [
       "56"
      ]
     },
     "execution_count": 73,
     "metadata": {},
     "output_type": "execute_result"
    }
   ],
   "source": [
    "prd.sum()"
   ]
  },
  {
   "cell_type": "code",
   "execution_count": 74,
   "metadata": {},
   "outputs": [
    {
     "data": {
      "image/svg+xml": [
       "<svg xmlns=\"http://www.w3.org/2000/svg\" xmlns:xlink=\"http://www.w3.org/1999/xlink\" width=\"729pt\" height=\"433pt\" viewBox=\"0.00 0.00 729.00 433.00\">\n",
       "<g id=\"graph0\" class=\"graph\" transform=\"scale(1 1) rotate(0) translate(4 429)\">\n",
       "<title>Tree</title>\n",
       "<polygon fill=\"white\" stroke=\"transparent\" points=\"-4,4 -4,-429 725,-429 725,4 -4,4\"/>\n",
       "<!-- 0 -->\n",
       "<g id=\"node1\" class=\"node\">\n",
       "<title>0</title>\n",
       "<polygon fill=\"#ffffff\" stroke=\"black\" points=\"502.5,-425 349.5,-425 349.5,-342 502.5,-342 502.5,-425\"/>\n",
       "<text text-anchor=\"middle\" x=\"426\" y=\"-409.8\" font-family=\"Times,serif\" font-size=\"14.00\">Climb_Tree &lt;= 0.5</text>\n",
       "<text text-anchor=\"middle\" x=\"426\" y=\"-394.8\" font-family=\"Times,serif\" font-size=\"14.00\">entropy = 1.0</text>\n",
       "<text text-anchor=\"middle\" x=\"426\" y=\"-379.8\" font-family=\"Times,serif\" font-size=\"14.00\">samples = 1000</text>\n",
       "<text text-anchor=\"middle\" x=\"426\" y=\"-364.8\" font-family=\"Times,serif\" font-size=\"14.00\">value = [500, 500]</text>\n",
       "<text text-anchor=\"middle\" x=\"426\" y=\"-349.8\" font-family=\"Times,serif\" font-size=\"14.00\">class = Dog</text>\n",
       "</g>\n",
       "<!-- 1 -->\n",
       "<g id=\"node2\" class=\"node\">\n",
       "<title>1</title>\n",
       "<polygon fill=\"#41a1e6\" stroke=\"black\" points=\"419,-306 279,-306 279,-223 419,-223 419,-306\"/>\n",
       "<text text-anchor=\"middle\" x=\"349\" y=\"-290.8\" font-family=\"Times,serif\" font-size=\"14.00\">Bark &lt;= 0.5</text>\n",
       "<text text-anchor=\"middle\" x=\"349\" y=\"-275.8\" font-family=\"Times,serif\" font-size=\"14.00\">entropy = 0.237</text>\n",
       "<text text-anchor=\"middle\" x=\"349\" y=\"-260.8\" font-family=\"Times,serif\" font-size=\"14.00\">samples = 516</text>\n",
       "<text text-anchor=\"middle\" x=\"349\" y=\"-245.8\" font-family=\"Times,serif\" font-size=\"14.00\">value = [20, 496]</text>\n",
       "<text text-anchor=\"middle\" x=\"349\" y=\"-230.8\" font-family=\"Times,serif\" font-size=\"14.00\">class = Cat</text>\n",
       "</g>\n",
       "<!-- 0&#45;&gt;1 -->\n",
       "<g id=\"edge1\" class=\"edge\">\n",
       "<title>0-&gt;1</title>\n",
       "<path fill=\"none\" stroke=\"black\" d=\"M399.29,-341.91C393.49,-333.1 387.3,-323.7 381.32,-314.61\"/>\n",
       "<polygon fill=\"black\" stroke=\"black\" points=\"384.09,-312.45 375.67,-306.02 378.24,-316.3 384.09,-312.45\"/>\n",
       "<text text-anchor=\"middle\" x=\"370.62\" y=\"-326.81\" font-family=\"Times,serif\" font-size=\"14.00\">True</text>\n",
       "</g>\n",
       "<!-- 8 -->\n",
       "<g id=\"node9\" class=\"node\">\n",
       "<title>8</title>\n",
       "<polygon fill=\"#e5823b\" stroke=\"black\" points=\"571,-306 437,-306 437,-223 571,-223 571,-306\"/>\n",
       "<text text-anchor=\"middle\" x=\"504\" y=\"-290.8\" font-family=\"Times,serif\" font-size=\"14.00\">Bark &lt;= 0.5</text>\n",
       "<text text-anchor=\"middle\" x=\"504\" y=\"-275.8\" font-family=\"Times,serif\" font-size=\"14.00\">entropy = 0.069</text>\n",
       "<text text-anchor=\"middle\" x=\"504\" y=\"-260.8\" font-family=\"Times,serif\" font-size=\"14.00\">samples = 484</text>\n",
       "<text text-anchor=\"middle\" x=\"504\" y=\"-245.8\" font-family=\"Times,serif\" font-size=\"14.00\">value = [480, 4]</text>\n",
       "<text text-anchor=\"middle\" x=\"504\" y=\"-230.8\" font-family=\"Times,serif\" font-size=\"14.00\">class = Dog</text>\n",
       "</g>\n",
       "<!-- 0&#45;&gt;8 -->\n",
       "<g id=\"edge8\" class=\"edge\">\n",
       "<title>0-&gt;8</title>\n",
       "<path fill=\"none\" stroke=\"black\" d=\"M453.06,-341.91C458.93,-333.1 465.2,-323.7 471.26,-314.61\"/>\n",
       "<polygon fill=\"black\" stroke=\"black\" points=\"474.35,-316.28 476.99,-306.02 468.53,-312.4 474.35,-316.28\"/>\n",
       "<text text-anchor=\"middle\" x=\"481.89\" y=\"-326.84\" font-family=\"Times,serif\" font-size=\"14.00\">False</text>\n",
       "</g>\n",
       "<!-- 2 -->\n",
       "<g id=\"node3\" class=\"node\">\n",
       "<title>2</title>\n",
       "<polygon fill=\"#83c2ef\" stroke=\"black\" points=\"265,-187 131,-187 131,-104 265,-104 265,-187\"/>\n",
       "<text text-anchor=\"middle\" x=\"198\" y=\"-171.8\" font-family=\"Times,serif\" font-size=\"14.00\">Rustle &lt;= 0.5</text>\n",
       "<text text-anchor=\"middle\" x=\"198\" y=\"-156.8\" font-family=\"Times,serif\" font-size=\"14.00\">entropy = 0.844</text>\n",
       "<text text-anchor=\"middle\" x=\"198\" y=\"-141.8\" font-family=\"Times,serif\" font-size=\"14.00\">samples = 70</text>\n",
       "<text text-anchor=\"middle\" x=\"198\" y=\"-126.8\" font-family=\"Times,serif\" font-size=\"14.00\">value = [19, 51]</text>\n",
       "<text text-anchor=\"middle\" x=\"198\" y=\"-111.8\" font-family=\"Times,serif\" font-size=\"14.00\">class = Cat</text>\n",
       "</g>\n",
       "<!-- 1&#45;&gt;2 -->\n",
       "<g id=\"edge2\" class=\"edge\">\n",
       "<title>1-&gt;2</title>\n",
       "<path fill=\"none\" stroke=\"black\" d=\"M296.61,-222.91C284.31,-213.38 271.11,-203.15 258.49,-193.37\"/>\n",
       "<polygon fill=\"black\" stroke=\"black\" points=\"260.34,-190.38 250.3,-187.02 256.06,-195.91 260.34,-190.38\"/>\n",
       "</g>\n",
       "<!-- 5 -->\n",
       "<g id=\"node6\" class=\"node\">\n",
       "<title>5</title>\n",
       "<polygon fill=\"#399de5\" stroke=\"black\" points=\"417,-187 283,-187 283,-104 417,-104 417,-187\"/>\n",
       "<text text-anchor=\"middle\" x=\"350\" y=\"-171.8\" font-family=\"Times,serif\" font-size=\"14.00\">Rustle &lt;= 0.5</text>\n",
       "<text text-anchor=\"middle\" x=\"350\" y=\"-156.8\" font-family=\"Times,serif\" font-size=\"14.00\">entropy = 0.023</text>\n",
       "<text text-anchor=\"middle\" x=\"350\" y=\"-141.8\" font-family=\"Times,serif\" font-size=\"14.00\">samples = 446</text>\n",
       "<text text-anchor=\"middle\" x=\"350\" y=\"-126.8\" font-family=\"Times,serif\" font-size=\"14.00\">value = [1, 445]</text>\n",
       "<text text-anchor=\"middle\" x=\"350\" y=\"-111.8\" font-family=\"Times,serif\" font-size=\"14.00\">class = Cat</text>\n",
       "</g>\n",
       "<!-- 1&#45;&gt;5 -->\n",
       "<g id=\"edge5\" class=\"edge\">\n",
       "<title>1-&gt;5</title>\n",
       "<path fill=\"none\" stroke=\"black\" d=\"M349.35,-222.91C349.42,-214.65 349.49,-205.86 349.57,-197.3\"/>\n",
       "<polygon fill=\"black\" stroke=\"black\" points=\"353.07,-197.05 349.65,-187.02 346.07,-196.99 353.07,-197.05\"/>\n",
       "</g>\n",
       "<!-- 3 -->\n",
       "<g id=\"node4\" class=\"node\">\n",
       "<title>3</title>\n",
       "<polygon fill=\"#e58139\" stroke=\"black\" points=\"116,-68 0,-68 0,0 116,0 116,-68\"/>\n",
       "<text text-anchor=\"middle\" x=\"58\" y=\"-52.8\" font-family=\"Times,serif\" font-size=\"14.00\">entropy = 0.0</text>\n",
       "<text text-anchor=\"middle\" x=\"58\" y=\"-37.8\" font-family=\"Times,serif\" font-size=\"14.00\">samples = 1</text>\n",
       "<text text-anchor=\"middle\" x=\"58\" y=\"-22.8\" font-family=\"Times,serif\" font-size=\"14.00\">value = [1, 0]</text>\n",
       "<text text-anchor=\"middle\" x=\"58\" y=\"-7.8\" font-family=\"Times,serif\" font-size=\"14.00\">class = Dog</text>\n",
       "</g>\n",
       "<!-- 2&#45;&gt;3 -->\n",
       "<g id=\"edge3\" class=\"edge\">\n",
       "<title>2-&gt;3</title>\n",
       "<path fill=\"none\" stroke=\"black\" d=\"M145.87,-103.73C133.74,-94.24 120.85,-84.16 108.78,-74.72\"/>\n",
       "<polygon fill=\"black\" stroke=\"black\" points=\"110.61,-71.7 100.57,-68.3 106.3,-77.22 110.61,-71.7\"/>\n",
       "</g>\n",
       "<!-- 4 -->\n",
       "<g id=\"node5\" class=\"node\">\n",
       "<title>4</title>\n",
       "<polygon fill=\"#7fc0ee\" stroke=\"black\" points=\"268,-68 134,-68 134,0 268,0 268,-68\"/>\n",
       "<text text-anchor=\"middle\" x=\"201\" y=\"-52.8\" font-family=\"Times,serif\" font-size=\"14.00\">entropy = 0.828</text>\n",
       "<text text-anchor=\"middle\" x=\"201\" y=\"-37.8\" font-family=\"Times,serif\" font-size=\"14.00\">samples = 69</text>\n",
       "<text text-anchor=\"middle\" x=\"201\" y=\"-22.8\" font-family=\"Times,serif\" font-size=\"14.00\">value = [18, 51]</text>\n",
       "<text text-anchor=\"middle\" x=\"201\" y=\"-7.8\" font-family=\"Times,serif\" font-size=\"14.00\">class = Cat</text>\n",
       "</g>\n",
       "<!-- 2&#45;&gt;4 -->\n",
       "<g id=\"edge4\" class=\"edge\">\n",
       "<title>2-&gt;4</title>\n",
       "<path fill=\"none\" stroke=\"black\" d=\"M199.12,-103.73C199.34,-95.52 199.58,-86.86 199.81,-78.56\"/>\n",
       "<polygon fill=\"black\" stroke=\"black\" points=\"203.31,-78.39 200.09,-68.3 196.32,-78.2 203.31,-78.39\"/>\n",
       "</g>\n",
       "<!-- 6 -->\n",
       "<g id=\"node7\" class=\"node\">\n",
       "<title>6</title>\n",
       "<polygon fill=\"#399de5\" stroke=\"black\" points=\"406,-68 290,-68 290,0 406,0 406,-68\"/>\n",
       "<text text-anchor=\"middle\" x=\"348\" y=\"-52.8\" font-family=\"Times,serif\" font-size=\"14.00\">entropy = 0.0</text>\n",
       "<text text-anchor=\"middle\" x=\"348\" y=\"-37.8\" font-family=\"Times,serif\" font-size=\"14.00\">samples = 5</text>\n",
       "<text text-anchor=\"middle\" x=\"348\" y=\"-22.8\" font-family=\"Times,serif\" font-size=\"14.00\">value = [0, 5]</text>\n",
       "<text text-anchor=\"middle\" x=\"348\" y=\"-7.8\" font-family=\"Times,serif\" font-size=\"14.00\">class = Cat</text>\n",
       "</g>\n",
       "<!-- 5&#45;&gt;6 -->\n",
       "<g id=\"edge6\" class=\"edge\">\n",
       "<title>5-&gt;6</title>\n",
       "<path fill=\"none\" stroke=\"black\" d=\"M349.26,-103.73C349.11,-95.52 348.95,-86.86 348.8,-78.56\"/>\n",
       "<polygon fill=\"black\" stroke=\"black\" points=\"352.29,-78.23 348.61,-68.3 345.29,-78.36 352.29,-78.23\"/>\n",
       "</g>\n",
       "<!-- 7 -->\n",
       "<g id=\"node8\" class=\"node\">\n",
       "<title>7</title>\n",
       "<polygon fill=\"#399de5\" stroke=\"black\" points=\"558,-68 424,-68 424,0 558,0 558,-68\"/>\n",
       "<text text-anchor=\"middle\" x=\"491\" y=\"-52.8\" font-family=\"Times,serif\" font-size=\"14.00\">entropy = 0.023</text>\n",
       "<text text-anchor=\"middle\" x=\"491\" y=\"-37.8\" font-family=\"Times,serif\" font-size=\"14.00\">samples = 441</text>\n",
       "<text text-anchor=\"middle\" x=\"491\" y=\"-22.8\" font-family=\"Times,serif\" font-size=\"14.00\">value = [1, 440]</text>\n",
       "<text text-anchor=\"middle\" x=\"491\" y=\"-7.8\" font-family=\"Times,serif\" font-size=\"14.00\">class = Cat</text>\n",
       "</g>\n",
       "<!-- 5&#45;&gt;7 -->\n",
       "<g id=\"edge7\" class=\"edge\">\n",
       "<title>5-&gt;7</title>\n",
       "<path fill=\"none\" stroke=\"black\" d=\"M402.5,-103.73C414.84,-94.15 427.95,-83.96 440.21,-74.44\"/>\n",
       "<polygon fill=\"black\" stroke=\"black\" points=\"442.37,-77.2 448.12,-68.3 438.08,-71.67 442.37,-77.2\"/>\n",
       "</g>\n",
       "<!-- 9 -->\n",
       "<g id=\"node10\" class=\"node\">\n",
       "<title>9</title>\n",
       "<polygon fill=\"#e58139\" stroke=\"black\" points=\"568.5,-179.5 437.5,-179.5 437.5,-111.5 568.5,-111.5 568.5,-179.5\"/>\n",
       "<text text-anchor=\"middle\" x=\"503\" y=\"-164.3\" font-family=\"Times,serif\" font-size=\"14.00\">entropy = 0.0</text>\n",
       "<text text-anchor=\"middle\" x=\"503\" y=\"-149.3\" font-family=\"Times,serif\" font-size=\"14.00\">samples = 465</text>\n",
       "<text text-anchor=\"middle\" x=\"503\" y=\"-134.3\" font-family=\"Times,serif\" font-size=\"14.00\">value = [465, 0]</text>\n",
       "<text text-anchor=\"middle\" x=\"503\" y=\"-119.3\" font-family=\"Times,serif\" font-size=\"14.00\">class = Dog</text>\n",
       "</g>\n",
       "<!-- 8&#45;&gt;9 -->\n",
       "<g id=\"edge9\" class=\"edge\">\n",
       "<title>8-&gt;9</title>\n",
       "<path fill=\"none\" stroke=\"black\" d=\"M503.65,-222.91C503.56,-212.2 503.46,-200.62 503.37,-189.78\"/>\n",
       "<polygon fill=\"black\" stroke=\"black\" points=\"506.87,-189.64 503.28,-179.67 499.87,-189.7 506.87,-189.64\"/>\n",
       "</g>\n",
       "<!-- 10 -->\n",
       "<g id=\"node11\" class=\"node\">\n",
       "<title>10</title>\n",
       "<polygon fill=\"#eca36e\" stroke=\"black\" points=\"721,-179.5 587,-179.5 587,-111.5 721,-111.5 721,-179.5\"/>\n",
       "<text text-anchor=\"middle\" x=\"654\" y=\"-164.3\" font-family=\"Times,serif\" font-size=\"14.00\">entropy = 0.742</text>\n",
       "<text text-anchor=\"middle\" x=\"654\" y=\"-149.3\" font-family=\"Times,serif\" font-size=\"14.00\">samples = 19</text>\n",
       "<text text-anchor=\"middle\" x=\"654\" y=\"-134.3\" font-family=\"Times,serif\" font-size=\"14.00\">value = [15, 4]</text>\n",
       "<text text-anchor=\"middle\" x=\"654\" y=\"-119.3\" font-family=\"Times,serif\" font-size=\"14.00\">class = Dog</text>\n",
       "</g>\n",
       "<!-- 8&#45;&gt;10 -->\n",
       "<g id=\"edge10\" class=\"edge\">\n",
       "<title>8-&gt;10</title>\n",
       "<path fill=\"none\" stroke=\"black\" d=\"M556.04,-222.91C571.32,-210.99 588.01,-197.98 603.21,-186.12\"/>\n",
       "<polygon fill=\"black\" stroke=\"black\" points=\"605.75,-188.58 611.48,-179.67 601.44,-183.06 605.75,-188.58\"/>\n",
       "</g>\n",
       "</g>\n",
       "</svg>"
      ],
      "text/plain": [
       "<IPython.core.display.SVG object>"
      ]
     },
     "metadata": {},
     "output_type": "display_data"
    }
   ],
   "source": [
    "graph = Source(tree.export_graphviz(clf, out_file=None, feature_names=list(X), class_names=['Dog', 'Cat'], filled=True))\n",
    "display(SVG(graph.pipe(format='svg')))"
   ]
  },
  {
   "cell_type": "code",
   "execution_count": null,
   "metadata": {},
   "outputs": [],
   "source": []
  }
 ],
 "metadata": {
  "kernelspec": {
   "display_name": "Python 3",
   "language": "python",
   "name": "python3"
  },
  "language_info": {
   "codemirror_mode": {
    "name": "ipython",
    "version": 3
   },
   "file_extension": ".py",
   "mimetype": "text/x-python",
   "name": "python",
   "nbconvert_exporter": "python",
   "pygments_lexer": "ipython3",
   "version": "3.8.2"
  }
 },
 "nbformat": 4,
 "nbformat_minor": 4
}
